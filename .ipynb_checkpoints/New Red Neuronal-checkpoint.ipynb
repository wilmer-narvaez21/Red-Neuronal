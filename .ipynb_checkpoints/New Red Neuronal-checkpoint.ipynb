{
 "cells": [
  {
   "cell_type": "code",
   "execution_count": 2,
   "id": "66b6e457",
   "metadata": {},
   "outputs": [],
   "source": [
    "#librerias a utilizar\n",
    "import tensorflow as tf#libreria para IA\n",
    "import numpy as np#trabajar con arreglos numericos"
   ]
  },
  {
   "cell_type": "code",
   "execution_count": 3,
   "id": "b7c39f8b",
   "metadata": {},
   "outputs": [],
   "source": [
    "#declaramos arreglos de numeros con las entradas de celsius y salidas fahrenheit\n",
    "celsius = np.array([-40, -10, 0, 8, 15, 22, 38], dtype=float)\n",
    "fahrenheit = np.array([-40, 14, 32, 46, 59, 72, 100], dtype=float)"
   ]
  },
  {
   "cell_type": "code",
   "execution_count": 5,
   "id": "f919d984",
   "metadata": {},
   "outputs": [],
   "source": [
    "#se usa keras para hacer la red mas facil\n",
    "#especificar las capas de tipos densas en queras, que tienen conexines a cada neurona\n",
    "#unidades o neuronas de la capa units, input_shape para que registre la capa de la neurona\n",
    "capa = tf.keras.layers.Dense(units=1, input_shape=[1])\n",
    "#usamos modelo secuencial\n",
    "modelo = tf.keras.Sequential([capa])"
   ]
  },
  {
   "cell_type": "code",
   "execution_count": 8,
   "id": "752648b6",
   "metadata": {},
   "outputs": [],
   "source": [
    "#compilamos el modelo usando Adam para ajustar los sesgos y pesos de manera eficiente\n",
    "#se le indica un valor numerico para la tasa de aprendizaje\n",
    "modelo.compile(\n",
    "    optimizer=tf.keras.optimizers.Adam(0.1),\n",
    "    loss='mean_squared_error'\n",
    ")"
   ]
  },
  {
   "cell_type": "code",
   "execution_count": null,
   "id": "bf144b68",
   "metadata": {},
   "outputs": [],
   "source": []
  }
 ],
 "metadata": {
  "kernelspec": {
   "display_name": "Python 3 (ipykernel)",
   "language": "python",
   "name": "python3"
  },
  "language_info": {
   "codemirror_mode": {
    "name": "ipython",
    "version": 3
   },
   "file_extension": ".py",
   "mimetype": "text/x-python",
   "name": "python",
   "nbconvert_exporter": "python",
   "pygments_lexer": "ipython3",
   "version": "3.10.6"
  }
 },
 "nbformat": 4,
 "nbformat_minor": 5
}
